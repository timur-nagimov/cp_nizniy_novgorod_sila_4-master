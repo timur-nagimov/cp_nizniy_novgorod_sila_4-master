{
 "cells": [
  {
   "cell_type": "code",
   "execution_count": 10,
   "metadata": {},
   "outputs": [],
   "source": [
    "from pprint import pprint"
   ]
  },
  {
   "cell_type": "code",
   "execution_count": 7,
   "metadata": {},
   "outputs": [],
   "source": [
    "import joblib\n",
    "\n",
    "data = joblib.load('base_nodes.pkl')"
   ]
  },
  {
   "cell_type": "code",
   "execution_count": 15,
   "metadata": {},
   "outputs": [
    {
     "name": "stdout",
     "output_type": "stream",
     "text": [
      "Document(id_='node-4', embedding=None, metadata={'level_1': '1 О системе', 'level_2': '1.4 Роли пользователей', 'level_3': '0 ', 'figures': '[]', 'page': 6.0}, excluded_embed_metadata_keys=[], excluded_llm_metadata_keys=[], relationships={}, text='ПО «КК» предусматривает следующие роли пользователей: «Пользователь»; «Администратор». Функции пользователя с ролью «Администратор» описаны в документе «Руководство администратора».', mimetype='text/plain', start_char_idx=None, end_char_idx=None, text_template='{metadata_str}\\n\\n{content}', metadata_template='{key}: {value}', metadata_seperator='\\n')\n"
     ]
    }
   ],
   "source": [
    "pprint(data[4])"
   ]
  },
  {
   "cell_type": "code",
   "execution_count": 16,
   "metadata": {},
   "outputs": [],
   "source": [
    "import joblib\n",
    "\n",
    "hash_table = joblib.load('hash_png.pkl')"
   ]
  },
  {
   "cell_type": "code",
   "execution_count": 17,
   "metadata": {},
   "outputs": [
    {
     "data": {
      "text/plain": [
       "<MultiDict('node-0': None, 'node-1': None, 'node-2': None, 'node-3': None, 'node-4': None, 'node-5': None, 'node-6': 'Рисунок 1.Страница авторизации', 'node-7': None, 'node-8': 'Рисунок 2.Шлюзы автоматизации', 'node-9': None, 'node-10': None, 'node-11': None, 'node-12': 'Рисунок 3.Удаление шлюза автоматизации', 'node-13': None, 'node-14': None, 'node-15': 'Рисунок 4.Редактирование УЗ', 'node-16': 'Рисунок 5.Удаление УЗ', 'node-17': None, 'node-18': 'Рисунок 6.Пример иерархии моделей ПО уровня 1', 'node-19': 'Рисунок 7.Пример иерархии моделей ПО уровня 2', 'node-19': 'Рисунок 8.Создание модели ПО', 'node-20': 'Рисунок 9.Закрепление модели ПО для добавления связи', 'node-20': 'Рисунок 10.Перетаскивание модели ПО', 'node-21': None, 'node-22': None, 'node-23': None, 'node-24': 'Рисунок 11.Удаление связи между моделями ПО', 'node-25': 'Рисунок 12.Удаление модели ПО через кнопку', 'node-26': 'Рисунок 13.Шаблон конфигурации', 'node-27': None, 'node-28': None, 'node-29': 'Рисунок 14.Создание шаблона из профиля', 'node-30': 'Рисунок 15.Выгрузка шаблона из профиля', 'node-31': 'Рисунок 16.Информация о профиле', 'node-32': 'Рисунок 17.Создание профиля', 'node-33': 'Рисунок 18.Копирование профиля через список', 'node-33': 'Рисунок 19.Копирование профиля через карточку', 'node-34': 'Рисунок 20.Создание профиля на базе шаблона', 'node-35': None, 'node-36': 'Рисунок 21.Переименование профиля', 'node-37': 'Рисунок 22.Смена применимости профиля', 'node-37': 'Рисунок 23.Удаление применимости', 'node-38': None, 'node-39': 'Рисунок 24.Архивация профиля через список профилей', 'node-39': 'Рисунок 25.Дополнительные действия с профилем', 'node-40': 'Рисунок 26.Удаление профиля из списка профилей', 'node-40': 'Рисунок 27.Удаление профиля из карточки', 'node-41': 'Рисунок 28.Общие сведения требования', 'node-42': 'Рисунок 29.Создание раздела', 'node-43': None, 'node-44': None, 'node-45': None, 'node-46': 'Рисунок 30.Редактирование требования', 'node-47': 'Рисунок 31.Сведения требования', 'node-48': 'Рисунок 32.Применимость требования', 'node-49': 'Рисунок 33.Сбор конфигурации требования', 'node-50': 'Рисунок 34.Анализ конфигурации требования', 'node-51': 'Рисунок 35.Исправление конфигурации требования', 'node-52': 'Рисунок 36.Единый реестр требований', 'node-53': None, 'node-54': None, 'node-55': 'Рисунок 37.Дополнительные действия с группой применимости', 'node-56': None, 'node-57': 'Рисунок 38.Удаление требования из карточки требования', 'node-58': 'Рисунок 39.Информация о ресурсе', 'node-59': None, 'node-60': None, 'node-61': None, 'node-62': None, 'node-63': None, 'node-64': None, 'node-65': None, 'node-66': None, 'node-67': 'Рисунок 40.Редактирование ресурса', 'node-68': 'Рисунок 41.Редактирование программной топологии', 'node-69': None, 'node-70': None, 'node-71': None, 'node-72': 'Рисунок 42.Редактирование экземпляра ПО', 'node-73': None, 'node-74': 'Рисунок 43.Пример экспортированного CSV-файла ресурсов', 'node-75': 'Рисунок 44.Импорт ресурсов', 'node-76': None, 'node-77': None, 'node-78': None, 'node-79': 'Рисунок 45.Информация об области аудита', 'node-80': None, 'node-81': 'Рисунок 46.Дополнительные действия с областью аудита', 'node-82': 'Рисунок 47.Информация о задачах', 'node-83': None, 'node-84': None, 'node-85': 'Рисунок 48.Содержание отчета аудита', 'node-86': None, 'node-87': None, 'node-88': None, 'node-89': 'Рисунок 49.Содержание протокола аудита', 'node-90': None, 'node-91': None, 'node-92': None, 'node-93': 'Рисунок 50.Включение древовидной структуры отображения', 'node-94': 'Рисунок 51.Включение отображения списком', 'node-94': 'Рисунок 52.Включение фильтрации требований', 'node-95': None, 'node-96': 'Рисунок 53.Завершение сбора конфигурации', 'node-96': 'Рисунок 54.Указание результата сбора конфигурации', 'node-97': 'Рисунок 55.Завершение анализа конфигурации', 'node-97': 'Рисунок 56.Указание результата анализа конфигурации', 'node-98': None, 'node-99': None)>"
      ]
     },
     "execution_count": 17,
     "metadata": {},
     "output_type": "execute_result"
    }
   ],
   "source": [
    "hash_table"
   ]
  },
  {
   "cell_type": "code",
   "execution_count": 25,
   "metadata": {},
   "outputs": [],
   "source": [
    "import psycopg2\n",
    "import hashlib\n",
    "\n",
    "\n",
    "def insert_image(image_path):\n",
    "    # Подключение к базе данных\n",
    "    conn = psycopg2.connect(\n",
    "        dbname=\"prompt_logs\",\n",
    "        user=\"prompt_logs\",\n",
    "        password=\"hack_user\",\n",
    "        host=\"localhost\",\n",
    "        port=\"5432\"\n",
    "    )\n",
    "    cur = conn.cursor()\n",
    "\n",
    "    # Чтение изображения в бинарном формате\n",
    "    with open(image_path, 'rb') as f:\n",
    "        img = f.read()\n",
    "        \n",
    "        # Генерация SHA-256 хэша\n",
    "        img_hash = hashlib.sha256(img).hexdigest()\n",
    "\n",
    "        # Вставка изображения в базу данных\n",
    "        cur.execute(\"INSERT INTO images (hash, image) VALUES (%s, %s)\", (img_hash, psycopg2.Binary(img)))\n",
    "\n",
    "    conn.commit()\n",
    "    cur.close()\n",
    "    conn.close()\n",
    "    \n",
    "    print(f\"Изображение сохранено с хэшом: {img_hash}\")\n",
    "    return img_hash"
   ]
  },
  {
   "cell_type": "code",
   "execution_count": 26,
   "metadata": {},
   "outputs": [
    {
     "name": "stdout",
     "output_type": "stream",
     "text": [
      "Изображение сохранено с хэшом: cee38cafbf9ac4d4c29837799dd164e21aef0f0e8041b9570493bf04ce614e67\n"
     ]
    },
    {
     "data": {
      "text/plain": [
       "'cee38cafbf9ac4d4c29837799dd164e21aef0f0e8041b9570493bf04ce614e67'"
      ]
     },
     "execution_count": 26,
     "metadata": {},
     "output_type": "execute_result"
    }
   ],
   "source": [
    "insert_image('image.png')"
   ]
  },
  {
   "cell_type": "code",
   "execution_count": 24,
   "metadata": {},
   "outputs": [],
   "source": [
    "def save_image(hash_value, destination_path):\n",
    "    conn = psycopg2.connect(\n",
    "        dbname=\"prompt_logs\",\n",
    "        user=\"prompt_logs\",\n",
    "        password=\"hack_user\",\n",
    "        host=\"localhost\",\n",
    "        port=\"5432\"\n",
    "    )\n",
    "    cur = conn.cursor()\n",
    "\n",
    "    cur.execute(\"SELECT image FROM images WHERE hash = %s\", (hash_value,))\n",
    "    result = cur.fetchone()\n",
    "\n",
    "    if result:\n",
    "        with open(destination_path, 'wb') as f:\n",
    "            f.write(result[0])\n",
    "        print(f\"Изображение сохранено в '{destination_path}'\")\n",
    "    else:\n",
    "        print(\"Изображение с заданным хэшом не найдено.\")\n",
    "    \n",
    "    cur.close()\n",
    "    conn.close()"
   ]
  },
  {
   "cell_type": "code",
   "execution_count": 27,
   "metadata": {},
   "outputs": [
    {
     "name": "stdout",
     "output_type": "stream",
     "text": [
      "Изображение сохранено с хэшом: cee38cafbf9ac4d4c29837799dd164e21aef0f0e8041b9570493bf04ce614e67\n"
     ]
    },
    {
     "data": {
      "text/plain": [
       "'cee38cafbf9ac4d4c29837799dd164e21aef0f0e8041b9570493bf04ce614e67'"
      ]
     },
     "execution_count": 27,
     "metadata": {},
     "output_type": "execute_result"
    }
   ],
   "source": [
    "insert_image('image.png')"
   ]
  },
  {
   "cell_type": "code",
   "execution_count": 28,
   "metadata": {},
   "outputs": [
    {
     "name": "stdout",
     "output_type": "stream",
     "text": [
      "Изображение сохранено в 'output.png'\n"
     ]
    }
   ],
   "source": [
    "save_image('cee38cafbf9ac4d4c29837799dd164e21aef0f0e8041b9570493bf04ce614e67', 'output.png')"
   ]
  },
  {
   "cell_type": "code",
   "execution_count": null,
   "metadata": {},
   "outputs": [],
   "source": []
  }
 ],
 "metadata": {
  "kernelspec": {
   "display_name": "venv",
   "language": "python",
   "name": "python3"
  },
  "language_info": {
   "codemirror_mode": {
    "name": "ipython",
    "version": 3
   },
   "file_extension": ".py",
   "mimetype": "text/x-python",
   "name": "python",
   "nbconvert_exporter": "python",
   "pygments_lexer": "ipython3",
   "version": "3.12.3"
  }
 },
 "nbformat": 4,
 "nbformat_minor": 2
}
