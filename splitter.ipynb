{
 "cells": [
  {
   "cell_type": "markdown",
   "metadata": {},
   "source": [
    "# Extracting images"
   ]
  },
  {
   "cell_type": "code",
   "execution_count": 21,
   "metadata": {},
   "outputs": [
    {
     "name": "stdout",
     "output_type": "stream",
     "text": [
      "            Image Name  Page Number\n",
      "0     page_1_img_1.png            1\n",
      "1     page_1_img_2.png            1\n",
      "2     page_2_img_1.png            2\n",
      "3     page_2_img_2.png            2\n",
      "4     page_2_img_3.png            2\n",
      "..                 ...          ...\n",
      "343  page_56_img_3.png           56\n",
      "344  page_56_img_4.png           56\n",
      "345  page_57_img_1.png           57\n",
      "346  page_57_img_2.png           57\n",
      "347  page_58_img_1.png           58\n",
      "\n",
      "[348 rows x 2 columns]\n"
     ]
    }
   ],
   "source": [
    "import fitz \n",
    "import pandas as pd\n",
    "import os\n",
    "\n",
    "def extract_images_from_pdf(pdf_path, output_folder):\n",
    "    os.makedirs(output_folder, exist_ok=True)\n",
    "    pdf_document = fitz.open(pdf_path)\n",
    "    image_data = []\n",
    "\n",
    "    for page_num in range(len(pdf_document)):\n",
    "        page = pdf_document[page_num]\n",
    "        image_list = page.get_images(full=True)\n",
    "\n",
    "        for img_index, img in enumerate(image_list):\n",
    "            xref = img[0]\n",
    "            base_image = pdf_document.extract_image(xref)\n",
    "            image_bytes = base_image[\"image\"]\n",
    "\n",
    "            image_name = f\"page_{page_num + 1}_img_{img_index + 1}.png\"\n",
    "            image_path = os.path.join(output_folder, image_name)\n",
    "\n",
    "            with open(image_path, \"wb\") as img_file:\n",
    "                img_file.write(image_bytes)\n",
    "\n",
    "            image_data.append({\"Image Name\": image_name, \"Page Number\": page_num + 1})\n",
    "\n",
    "    pdf_document.close()\n",
    "\n",
    "    df = pd.DataFrame(image_data)\n",
    "    return df\n",
    "\n",
    "pdf_path = r\"C:\\projects\\cps\\cp_pfo\\train_dataset_train_data_Sila\\train_data_Sila\\data.pdf\"  # Path to your PDF file\n",
    "output_folder = \"images\"  # Folder to save images\n",
    "df = extract_images_from_pdf(pdf_path, output_folder)\n"
   ]
  },
  {
   "cell_type": "code",
   "execution_count": 22,
   "metadata": {},
   "outputs": [],
   "source": [
    "import os\n",
    "import pandas as pd\n",
    "import re\n",
    "\n",
    "def create_dataframe_from_images(folder_path):\n",
    "    data = []\n",
    "\n",
    "    for filename in os.listdir(folder_path):\n",
    "        if filename.endswith(\".png\"):\n",
    "            match = re.match(r\"page_(\\d+)_img_\\d+\\.png\", filename)\n",
    "            if match:\n",
    "                page_number = int(match.group(1)) \n",
    "                data.append({\"Image Name\": filename, \"Page Number\": page_number})\n",
    "\n",
    "    df = pd.DataFrame(data)\n",
    "    return df\n",
    "\n",
    "folder_path = \"images\"  \n",
    "df_img = create_dataframe_from_images(folder_path)\n",
    "df_img.sort_values(by='Page Number').reset_index(drop=True).to_csv(\"image_pages.csv\", index=False)"
   ]
  },
  {
   "cell_type": "markdown",
   "metadata": {},
   "source": [
    "# Extract Text and Info"
   ]
  },
  {
   "cell_type": "code",
   "execution_count": 324,
   "metadata": {},
   "outputs": [],
   "source": [
    "from docx import Document\n",
    "import pandas as pd\n",
    "\n",
    "def parse_word_to_dataframe(doc_path):\n",
    "    data = []\n",
    "    current_headings = [\"\", \"\", \"\", \"\"]  # Иерархия заголовков\n",
    "    current_figures = []  # Названия рисунков\n",
    "    doc = Document(doc_path)\n",
    "\n",
    "    for para in doc.paragraphs:\n",
    "        text = para.text.strip()\n",
    "        if text:\n",
    "            # Определяем иерархию заголовков\n",
    "            if para.style.name == \"Heading 1\":\n",
    "                current_headings[0] = text\n",
    "                current_headings[1] = \"\"\n",
    "                current_headings[2] = \"\"\n",
    "                current_headings[3] = \"\"\n",
    "            elif para.style.name == \"Heading 2\":\n",
    "                current_headings[1] = text\n",
    "                current_headings[2] = \"\"\n",
    "                current_headings[3] = \"\"\n",
    "            elif para.style.name == \"Heading 3\":\n",
    "                current_headings[2] = text\n",
    "                current_headings[3] = \"\"\n",
    "            elif para.style.name == \"Heading 4\":\n",
    "                current_headings[3] = text\n",
    "            elif para.style.name == \"Caption\":  # Проверка, если текст параграфа - это подпись к рисунку\n",
    "                current_figures.append(text)\n",
    "            else:\n",
    "                # Добавляем строки в таблицу\n",
    "                data.append({\n",
    "                    \"text\": text,\n",
    "                    \"level_1\": current_headings[0],\n",
    "                    \"level_2\": current_headings[1],\n",
    "                    \"level_3\": current_headings[2],\n",
    "                    \"level_4\": current_headings[3],\n",
    "                    \"figures\": \"; \".join(current_figures)  # Объединяем все названия рисунков\n",
    "                })\n",
    "                current_figures = []  # Сбрасываем список названий рисунков для следующего текста\n",
    "\n",
    "    df = pd.DataFrame(data)\n",
    "    return df\n",
    "\n",
    "# Пример вызова функции\n",
    "doc_path = r\"C:\\projects\\cps\\cp_pfo\\train_dataset_train_data_Sila\\train_data_Sila\\data.docx\" \n",
    "df_1 = parse_word_to_dataframe(doc_path)"
   ]
  },
  {
   "cell_type": "code",
   "execution_count": 325,
   "metadata": {},
   "outputs": [],
   "source": [
    "figure_counter = 1\n",
    "def process_figure(figure):\n",
    "    global figure_counter\n",
    "    if figure:\n",
    "        formatted_figure = f\"Рисунок {figure_counter}.{figure.split('.', 1)[1].strip()}\"\n",
    "        figure_counter += 1\n",
    "        return formatted_figure\n",
    "    return \"\"\n",
    "\n",
    "df_1['figures'] = df_1['figures'].apply(process_figure)"
   ]
  },
  {
   "cell_type": "code",
   "execution_count": 326,
   "metadata": {},
   "outputs": [],
   "source": [
    "pages = df_1[2:89].text.tolist()\n",
    "\n",
    "head2page= {}\n",
    "\n",
    "for item in pages:\n",
    "    section_page = int(item.split('\\t')[-1])\n",
    "    section_number, section_title = item.split('\\t')[0].split(' ', 1)\n",
    "    head2page[section_title] = section_page\n",
    "\n",
    "page2head = {v:k for k, v in head2page.items()}"
   ]
  },
  {
   "cell_type": "code",
   "execution_count": 327,
   "metadata": {},
   "outputs": [],
   "source": [
    "levels = df_1[2:89].text.tolist()\n",
    "\n",
    "num2head = {}\n",
    "\n",
    "for item in levels:\n",
    "    section_number, section_title = item.split('\\t')[0].split(' ', 1)\n",
    "    num2head[section_number] = section_title\n",
    "\n",
    "head2num = {v:k for k, v in num2head.items()}"
   ]
  },
  {
   "cell_type": "code",
   "execution_count": 331,
   "metadata": {},
   "outputs": [],
   "source": [
    "def last_non_empty(row):\n",
    "    for level in ['level_4', 'level_3', 'level_2', 'level_1']:\n",
    "        if row[level]:\n",
    "            return row[level]\n",
    "    return None\n",
    "\n",
    "df_1['non_empty_level'] = df_1.apply(last_non_empty, axis=1)\n",
    "df_1['page_num'] = df_1['non_empty_level'].map(head2page)\n",
    "\n",
    "\n",
    "group = (df_1['non_empty_level'] != df_1['non_empty_level'].shift()).cumsum()\n",
    "\n",
    "grouped_df = df_1.groupby(group).agg({\n",
    "    'text': ' '.join,\n",
    "    'level_1': 'first',\n",
    "    'level_2': 'first',\n",
    "    'level_3': 'first',\n",
    "    'level_4': 'first',\n",
    "    'figures': lambda x: [fig for fig in x if fig],  # Создание списка из непустых значений\n",
    "    'page_num': 'first'\n",
    "}).reset_index(drop=True)\n",
    "\n",
    "chunks = grouped_df[89:].reset_index(drop=True)\n",
    "chunks['page_num'] = chunks['page_num'].ffill()"
   ]
  },
  {
   "cell_type": "code",
   "execution_count": 333,
   "metadata": {},
   "outputs": [],
   "source": [
    "def paste_level_num(text, head2num=head2num):\n",
    "    num = head2num.get(text, 0)\n",
    "    return f\"{num} {text}\""
   ]
  },
  {
   "cell_type": "code",
   "execution_count": 334,
   "metadata": {},
   "outputs": [],
   "source": [
    "chunks['level_1'] = chunks['level_1'].apply(paste_level_num)\n",
    "chunks['level_2'] = chunks['level_2'].apply(paste_level_num)\n",
    "chunks['level_3'] = chunks['level_3'].apply(paste_level_num)\n",
    "chunks['level_4'] = chunks['level_4'].apply(paste_level_num)"
   ]
  },
  {
   "cell_type": "code",
   "execution_count": 336,
   "metadata": {},
   "outputs": [],
   "source": [
    "chunks.to_csv(\"chunked.csv\", index=False)"
   ]
  }
 ],
 "metadata": {
  "kernelspec": {
   "display_name": "cp_env",
   "language": "python",
   "name": "python3"
  },
  "language_info": {
   "codemirror_mode": {
    "name": "ipython",
    "version": 3
   },
   "file_extension": ".py",
   "mimetype": "text/x-python",
   "name": "python",
   "nbconvert_exporter": "python",
   "pygments_lexer": "ipython3",
   "version": "3.10.11"
  }
 },
 "nbformat": 4,
 "nbformat_minor": 2
}
